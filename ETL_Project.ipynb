{
 "cells": [
  {
   "cell_type": "markdown",
   "metadata": {},
   "source": [
    "# ETL "
   ]
  },
  {
   "cell_type": "code",
   "execution_count": 3,
   "metadata": {},
   "outputs": [],
   "source": [
    "# Import dependencies\n",
    "import pandas as pd\n",
    "import matplotlib.pyplot as plt\n",
    "import pymongo"
   ]
  },
  {
   "cell_type": "code",
   "execution_count": 4,
   "metadata": {},
   "outputs": [],
   "source": [
    "# Read CSV file - World Happiness Report for 2019\n",
    "df_2019=pd.read_csv('Resources/2019.csv',index_col=None)"
   ]
  },
  {
   "cell_type": "code",
   "execution_count": 5,
   "metadata": {},
   "outputs": [
    {
     "data": {
      "text/html": [
       "<div>\n",
       "<style scoped>\n",
       "    .dataframe tbody tr th:only-of-type {\n",
       "        vertical-align: middle;\n",
       "    }\n",
       "\n",
       "    .dataframe tbody tr th {\n",
       "        vertical-align: top;\n",
       "    }\n",
       "\n",
       "    .dataframe thead th {\n",
       "        text-align: right;\n",
       "    }\n",
       "</style>\n",
       "<table border=\"1\" class=\"dataframe\">\n",
       "  <thead>\n",
       "    <tr style=\"text-align: right;\">\n",
       "      <th></th>\n",
       "      <th>Overall rank</th>\n",
       "      <th>Country or region</th>\n",
       "      <th>Score</th>\n",
       "      <th>GDP per capita</th>\n",
       "      <th>Social support</th>\n",
       "      <th>Healthy life expectancy</th>\n",
       "      <th>Freedom to make life choices</th>\n",
       "      <th>Generosity</th>\n",
       "      <th>Perceptions of corruption</th>\n",
       "    </tr>\n",
       "  </thead>\n",
       "  <tbody>\n",
       "    <tr>\n",
       "      <th>0</th>\n",
       "      <td>1</td>\n",
       "      <td>Finland</td>\n",
       "      <td>7.769</td>\n",
       "      <td>1.340</td>\n",
       "      <td>1.587</td>\n",
       "      <td>0.986</td>\n",
       "      <td>0.596</td>\n",
       "      <td>0.153</td>\n",
       "      <td>0.393</td>\n",
       "    </tr>\n",
       "    <tr>\n",
       "      <th>1</th>\n",
       "      <td>2</td>\n",
       "      <td>Denmark</td>\n",
       "      <td>7.600</td>\n",
       "      <td>1.383</td>\n",
       "      <td>1.573</td>\n",
       "      <td>0.996</td>\n",
       "      <td>0.592</td>\n",
       "      <td>0.252</td>\n",
       "      <td>0.410</td>\n",
       "    </tr>\n",
       "    <tr>\n",
       "      <th>2</th>\n",
       "      <td>3</td>\n",
       "      <td>Norway</td>\n",
       "      <td>7.554</td>\n",
       "      <td>1.488</td>\n",
       "      <td>1.582</td>\n",
       "      <td>1.028</td>\n",
       "      <td>0.603</td>\n",
       "      <td>0.271</td>\n",
       "      <td>0.341</td>\n",
       "    </tr>\n",
       "    <tr>\n",
       "      <th>3</th>\n",
       "      <td>4</td>\n",
       "      <td>Iceland</td>\n",
       "      <td>7.494</td>\n",
       "      <td>1.380</td>\n",
       "      <td>1.624</td>\n",
       "      <td>1.026</td>\n",
       "      <td>0.591</td>\n",
       "      <td>0.354</td>\n",
       "      <td>0.118</td>\n",
       "    </tr>\n",
       "    <tr>\n",
       "      <th>4</th>\n",
       "      <td>5</td>\n",
       "      <td>Netherlands</td>\n",
       "      <td>7.488</td>\n",
       "      <td>1.396</td>\n",
       "      <td>1.522</td>\n",
       "      <td>0.999</td>\n",
       "      <td>0.557</td>\n",
       "      <td>0.322</td>\n",
       "      <td>0.298</td>\n",
       "    </tr>\n",
       "  </tbody>\n",
       "</table>\n",
       "</div>"
      ],
      "text/plain": [
       "   Overall rank Country or region  Score  GDP per capita  Social support  \\\n",
       "0             1           Finland  7.769           1.340           1.587   \n",
       "1             2           Denmark  7.600           1.383           1.573   \n",
       "2             3            Norway  7.554           1.488           1.582   \n",
       "3             4           Iceland  7.494           1.380           1.624   \n",
       "4             5       Netherlands  7.488           1.396           1.522   \n",
       "\n",
       "   Healthy life expectancy  Freedom to make life choices  Generosity  \\\n",
       "0                    0.986                         0.596       0.153   \n",
       "1                    0.996                         0.592       0.252   \n",
       "2                    1.028                         0.603       0.271   \n",
       "3                    1.026                         0.591       0.354   \n",
       "4                    0.999                         0.557       0.322   \n",
       "\n",
       "   Perceptions of corruption  \n",
       "0                      0.393  \n",
       "1                      0.410  \n",
       "2                      0.341  \n",
       "3                      0.118  \n",
       "4                      0.298  "
      ]
     },
     "execution_count": 5,
     "metadata": {},
     "output_type": "execute_result"
    }
   ],
   "source": [
    "# Print Happiness report\n",
    "df_2019.head()"
   ]
  },
  {
   "cell_type": "code",
   "execution_count": 6,
   "metadata": {},
   "outputs": [],
   "source": [
    "# Read CSV file - Income Group\n",
    "df_inc = pd.read_csv(r'Resources/WB_Income_Group.csv', encoding='cp1252',index_col=None)\n",
    "df_inc = df_inc.drop(columns='X')\n",
    "df_inc = df_inc.dropna()\n",
    "df_inc = df_inc.iloc[1:,:]"
   ]
  },
  {
   "cell_type": "code",
   "execution_count": 7,
   "metadata": {},
   "outputs": [
    {
     "data": {
      "text/html": [
       "<div>\n",
       "<style scoped>\n",
       "    .dataframe tbody tr th:only-of-type {\n",
       "        vertical-align: middle;\n",
       "    }\n",
       "\n",
       "    .dataframe tbody tr th {\n",
       "        vertical-align: top;\n",
       "    }\n",
       "\n",
       "    .dataframe thead th {\n",
       "        text-align: right;\n",
       "    }\n",
       "</style>\n",
       "<table border=\"1\" class=\"dataframe\">\n",
       "  <thead>\n",
       "    <tr style=\"text-align: right;\">\n",
       "      <th></th>\n",
       "      <th>Country</th>\n",
       "      <th>Code</th>\n",
       "      <th>Region</th>\n",
       "      <th>Income group</th>\n",
       "    </tr>\n",
       "  </thead>\n",
       "  <tbody>\n",
       "    <tr>\n",
       "      <th>1</th>\n",
       "      <td>Afghanistan</td>\n",
       "      <td>AFG</td>\n",
       "      <td>South Asia</td>\n",
       "      <td>Low income</td>\n",
       "    </tr>\n",
       "    <tr>\n",
       "      <th>2</th>\n",
       "      <td>Albania</td>\n",
       "      <td>ALB</td>\n",
       "      <td>Europe &amp; Central Asia</td>\n",
       "      <td>Upper middle income</td>\n",
       "    </tr>\n",
       "    <tr>\n",
       "      <th>3</th>\n",
       "      <td>Algeria</td>\n",
       "      <td>DZA</td>\n",
       "      <td>Middle East &amp; North Africa</td>\n",
       "      <td>Lower middle income</td>\n",
       "    </tr>\n",
       "    <tr>\n",
       "      <th>4</th>\n",
       "      <td>American Samoa</td>\n",
       "      <td>ASM</td>\n",
       "      <td>East Asia &amp; Pacific</td>\n",
       "      <td>Upper middle income</td>\n",
       "    </tr>\n",
       "    <tr>\n",
       "      <th>5</th>\n",
       "      <td>Andorra</td>\n",
       "      <td>AND</td>\n",
       "      <td>Europe &amp; Central Asia</td>\n",
       "      <td>High income</td>\n",
       "    </tr>\n",
       "  </tbody>\n",
       "</table>\n",
       "</div>"
      ],
      "text/plain": [
       "          Country Code                      Region         Income group\n",
       "1     Afghanistan  AFG                  South Asia           Low income\n",
       "2         Albania  ALB       Europe & Central Asia  Upper middle income\n",
       "3         Algeria  DZA  Middle East & North Africa  Lower middle income\n",
       "4  American Samoa  ASM         East Asia & Pacific  Upper middle income\n",
       "5         Andorra  AND       Europe & Central Asia          High income"
      ]
     },
     "execution_count": 7,
     "metadata": {},
     "output_type": "execute_result"
    }
   ],
   "source": [
    "#Print income group table\n",
    "df_inc.head()"
   ]
  },
  {
   "cell_type": "code",
   "execution_count": 8,
   "metadata": {},
   "outputs": [],
   "source": [
    "#Establish connection to mongo db\n",
    "conn = 'mongodb://localhost:27017'\n",
    "client = pymongo.MongoClient(conn)"
   ]
  },
  {
   "cell_type": "code",
   "execution_count": 9,
   "metadata": {},
   "outputs": [],
   "source": [
    "#Create the database happy_db\n",
    "db = client.happy_db"
   ]
  },
  {
   "cell_type": "code",
   "execution_count": 10,
   "metadata": {},
   "outputs": [],
   "source": [
    "#Setup collections income_group and happy_ranking, if collections exist drop them start anew, \n",
    "db.income_group.drop()\n",
    "db.happy_ranking.drop()"
   ]
  },
  {
   "cell_type": "code",
   "execution_count": 11,
   "metadata": {},
   "outputs": [],
   "source": [
    "#Convert pandas dataframe  to dictionary, orient as a record, keeps a copy\n",
    "df_dict = df_inc.to_dict(orient='records').copy()"
   ]
  },
  {
   "cell_type": "code",
   "execution_count": 12,
   "metadata": {},
   "outputs": [
    {
     "data": {
      "text/plain": [
       "<pymongo.results.InsertManyResult at 0x7f9db2ea4688>"
      ]
     },
     "execution_count": 12,
     "metadata": {},
     "output_type": "execute_result"
    }
   ],
   "source": [
    "#Inserted the dictionary into collection\n",
    "db.income_group.insert_many(df_dict)"
   ]
  },
  {
   "cell_type": "code",
   "execution_count": 13,
   "metadata": {},
   "outputs": [
    {
     "name": "stdout",
     "output_type": "stream",
     "text": [
      "{'_id': ObjectId('5fd65f40584430c9f2fc1c83'), 'Country': 'Afghanistan', 'Code': 'AFG', 'Region': 'South Asia', 'Income group': 'Low income'}\n",
      "{'_id': ObjectId('5fd65f40584430c9f2fc1c84'), 'Country': 'Albania', 'Code': 'ALB', 'Region': 'Europe & Central Asia', 'Income group': 'Upper middle income'}\n"
     ]
    }
   ],
   "source": [
    "#print income group documents\n",
    "cursor = db.income_group.find({},limit=2)\n",
    "for document in cursor:\n",
    "    print(document)"
   ]
  },
  {
   "cell_type": "code",
   "execution_count": 14,
   "metadata": {},
   "outputs": [],
   "source": [
    "#Convert pandas happy ranking for 2019 dataframe  to dictionary, orient as a record, keeps a copy\n",
    "df_happy_dict = df_2019.to_dict(orient='records').copy()"
   ]
  },
  {
   "cell_type": "code",
   "execution_count": 15,
   "metadata": {},
   "outputs": [
    {
     "data": {
      "text/plain": [
       "<pymongo.results.InsertManyResult at 0x7f9db2e10c88>"
      ]
     },
     "execution_count": 15,
     "metadata": {},
     "output_type": "execute_result"
    }
   ],
   "source": [
    "db.happy_ranking.insert_many(df_happy_dict)"
   ]
  },
  {
   "cell_type": "code",
   "execution_count": 16,
   "metadata": {},
   "outputs": [
    {
     "name": "stdout",
     "output_type": "stream",
     "text": [
      "{'_id': ObjectId('5fd65f41584430c9f2fc1d5d'), 'Overall rank': 1, 'Country or region': 'Finland', 'Score': 7.769, 'GDP per capita': 1.34, 'Social support': 1.587, 'Healthy life expectancy': 0.986, 'Freedom to make life choices': 0.596, 'Generosity': 0.153, 'Perceptions of corruption': 0.39299999999999996}\n",
      "{'_id': ObjectId('5fd65f41584430c9f2fc1d5e'), 'Overall rank': 2, 'Country or region': 'Denmark', 'Score': 7.6, 'GDP per capita': 1.383, 'Social support': 1.5730000000000002, 'Healthy life expectancy': 0.996, 'Freedom to make life choices': 0.5920000000000001, 'Generosity': 0.252, 'Perceptions of corruption': 0.41}\n"
     ]
    }
   ],
   "source": [
    "cursor = db.happy_ranking.find({},limit=2)\n",
    "for document in cursor:\n",
    "    print(document)"
   ]
  },
  {
   "cell_type": "code",
   "execution_count": 17,
   "metadata": {
    "scrolled": true
   },
   "outputs": [
    {
     "data": {
      "text/html": [
       "<div>\n",
       "<style scoped>\n",
       "    .dataframe tbody tr th:only-of-type {\n",
       "        vertical-align: middle;\n",
       "    }\n",
       "\n",
       "    .dataframe tbody tr th {\n",
       "        vertical-align: top;\n",
       "    }\n",
       "\n",
       "    .dataframe thead th {\n",
       "        text-align: right;\n",
       "    }\n",
       "</style>\n",
       "<table border=\"1\" class=\"dataframe\">\n",
       "  <thead>\n",
       "    <tr style=\"text-align: right;\">\n",
       "      <th></th>\n",
       "      <th>_id</th>\n",
       "      <th>Overall rank</th>\n",
       "      <th>Country or region</th>\n",
       "      <th>Score</th>\n",
       "      <th>GDP per capita</th>\n",
       "      <th>Social support</th>\n",
       "      <th>Healthy life expectancy</th>\n",
       "      <th>Freedom to make life choices</th>\n",
       "      <th>Generosity</th>\n",
       "      <th>Perceptions of corruption</th>\n",
       "    </tr>\n",
       "  </thead>\n",
       "  <tbody>\n",
       "    <tr>\n",
       "      <th>0</th>\n",
       "      <td>5fd65f41584430c9f2fc1d5d</td>\n",
       "      <td>1</td>\n",
       "      <td>Finland</td>\n",
       "      <td>7.769</td>\n",
       "      <td>1.340</td>\n",
       "      <td>1.587</td>\n",
       "      <td>0.986</td>\n",
       "      <td>0.596</td>\n",
       "      <td>0.153</td>\n",
       "      <td>0.393</td>\n",
       "    </tr>\n",
       "    <tr>\n",
       "      <th>1</th>\n",
       "      <td>5fd65f41584430c9f2fc1d5e</td>\n",
       "      <td>2</td>\n",
       "      <td>Denmark</td>\n",
       "      <td>7.600</td>\n",
       "      <td>1.383</td>\n",
       "      <td>1.573</td>\n",
       "      <td>0.996</td>\n",
       "      <td>0.592</td>\n",
       "      <td>0.252</td>\n",
       "      <td>0.410</td>\n",
       "    </tr>\n",
       "    <tr>\n",
       "      <th>2</th>\n",
       "      <td>5fd65f41584430c9f2fc1d5f</td>\n",
       "      <td>3</td>\n",
       "      <td>Norway</td>\n",
       "      <td>7.554</td>\n",
       "      <td>1.488</td>\n",
       "      <td>1.582</td>\n",
       "      <td>1.028</td>\n",
       "      <td>0.603</td>\n",
       "      <td>0.271</td>\n",
       "      <td>0.341</td>\n",
       "    </tr>\n",
       "    <tr>\n",
       "      <th>3</th>\n",
       "      <td>5fd65f41584430c9f2fc1d60</td>\n",
       "      <td>4</td>\n",
       "      <td>Iceland</td>\n",
       "      <td>7.494</td>\n",
       "      <td>1.380</td>\n",
       "      <td>1.624</td>\n",
       "      <td>1.026</td>\n",
       "      <td>0.591</td>\n",
       "      <td>0.354</td>\n",
       "      <td>0.118</td>\n",
       "    </tr>\n",
       "    <tr>\n",
       "      <th>4</th>\n",
       "      <td>5fd65f41584430c9f2fc1d61</td>\n",
       "      <td>5</td>\n",
       "      <td>Netherlands</td>\n",
       "      <td>7.488</td>\n",
       "      <td>1.396</td>\n",
       "      <td>1.522</td>\n",
       "      <td>0.999</td>\n",
       "      <td>0.557</td>\n",
       "      <td>0.322</td>\n",
       "      <td>0.298</td>\n",
       "    </tr>\n",
       "  </tbody>\n",
       "</table>\n",
       "</div>"
      ],
      "text/plain": [
       "                        _id  Overall rank Country or region  Score  \\\n",
       "0  5fd65f41584430c9f2fc1d5d             1           Finland  7.769   \n",
       "1  5fd65f41584430c9f2fc1d5e             2           Denmark  7.600   \n",
       "2  5fd65f41584430c9f2fc1d5f             3            Norway  7.554   \n",
       "3  5fd65f41584430c9f2fc1d60             4           Iceland  7.494   \n",
       "4  5fd65f41584430c9f2fc1d61             5       Netherlands  7.488   \n",
       "\n",
       "   GDP per capita  Social support  Healthy life expectancy  \\\n",
       "0           1.340           1.587                    0.986   \n",
       "1           1.383           1.573                    0.996   \n",
       "2           1.488           1.582                    1.028   \n",
       "3           1.380           1.624                    1.026   \n",
       "4           1.396           1.522                    0.999   \n",
       "\n",
       "   Freedom to make life choices  Generosity  Perceptions of corruption  \n",
       "0                         0.596       0.153                      0.393  \n",
       "1                         0.592       0.252                      0.410  \n",
       "2                         0.603       0.271                      0.341  \n",
       "3                         0.591       0.354                      0.118  \n",
       "4                         0.557       0.322                      0.298  "
      ]
     },
     "execution_count": 17,
     "metadata": {},
     "output_type": "execute_result"
    }
   ],
   "source": [
    "#Read happy ranking collection from mongodb into a dataframe df_ranking\n",
    "df_ranking = pd.DataFrame(list(db.happy_ranking.find({})))\n",
    "df_ranking.head()"
   ]
  },
  {
   "cell_type": "code",
   "execution_count": 18,
   "metadata": {},
   "outputs": [
    {
     "data": {
      "text/html": [
       "<div>\n",
       "<style scoped>\n",
       "    .dataframe tbody tr th:only-of-type {\n",
       "        vertical-align: middle;\n",
       "    }\n",
       "\n",
       "    .dataframe tbody tr th {\n",
       "        vertical-align: top;\n",
       "    }\n",
       "\n",
       "    .dataframe thead th {\n",
       "        text-align: right;\n",
       "    }\n",
       "</style>\n",
       "<table border=\"1\" class=\"dataframe\">\n",
       "  <thead>\n",
       "    <tr style=\"text-align: right;\">\n",
       "      <th></th>\n",
       "      <th>_id</th>\n",
       "      <th>Country</th>\n",
       "      <th>Code</th>\n",
       "      <th>Region</th>\n",
       "      <th>Income group</th>\n",
       "    </tr>\n",
       "  </thead>\n",
       "  <tbody>\n",
       "    <tr>\n",
       "      <th>0</th>\n",
       "      <td>5fd65f40584430c9f2fc1c83</td>\n",
       "      <td>Afghanistan</td>\n",
       "      <td>AFG</td>\n",
       "      <td>South Asia</td>\n",
       "      <td>Low income</td>\n",
       "    </tr>\n",
       "    <tr>\n",
       "      <th>1</th>\n",
       "      <td>5fd65f40584430c9f2fc1c84</td>\n",
       "      <td>Albania</td>\n",
       "      <td>ALB</td>\n",
       "      <td>Europe &amp; Central Asia</td>\n",
       "      <td>Upper middle income</td>\n",
       "    </tr>\n",
       "    <tr>\n",
       "      <th>2</th>\n",
       "      <td>5fd65f40584430c9f2fc1c85</td>\n",
       "      <td>Algeria</td>\n",
       "      <td>DZA</td>\n",
       "      <td>Middle East &amp; North Africa</td>\n",
       "      <td>Lower middle income</td>\n",
       "    </tr>\n",
       "    <tr>\n",
       "      <th>3</th>\n",
       "      <td>5fd65f40584430c9f2fc1c86</td>\n",
       "      <td>American Samoa</td>\n",
       "      <td>ASM</td>\n",
       "      <td>East Asia &amp; Pacific</td>\n",
       "      <td>Upper middle income</td>\n",
       "    </tr>\n",
       "    <tr>\n",
       "      <th>4</th>\n",
       "      <td>5fd65f40584430c9f2fc1c87</td>\n",
       "      <td>Andorra</td>\n",
       "      <td>AND</td>\n",
       "      <td>Europe &amp; Central Asia</td>\n",
       "      <td>High income</td>\n",
       "    </tr>\n",
       "  </tbody>\n",
       "</table>\n",
       "</div>"
      ],
      "text/plain": [
       "                        _id         Country Code                      Region  \\\n",
       "0  5fd65f40584430c9f2fc1c83     Afghanistan  AFG                  South Asia   \n",
       "1  5fd65f40584430c9f2fc1c84         Albania  ALB       Europe & Central Asia   \n",
       "2  5fd65f40584430c9f2fc1c85         Algeria  DZA  Middle East & North Africa   \n",
       "3  5fd65f40584430c9f2fc1c86  American Samoa  ASM         East Asia & Pacific   \n",
       "4  5fd65f40584430c9f2fc1c87         Andorra  AND       Europe & Central Asia   \n",
       "\n",
       "          Income group  \n",
       "0           Low income  \n",
       "1  Upper middle income  \n",
       "2  Lower middle income  \n",
       "3  Upper middle income  \n",
       "4          High income  "
      ]
     },
     "execution_count": 18,
     "metadata": {},
     "output_type": "execute_result"
    }
   ],
   "source": [
    "#Read income group collection from mongodb into a dataframe df_income\n",
    "df_income = pd.DataFrame(list(db.income_group.find({})))\n",
    "df_income.head()"
   ]
  },
  {
   "cell_type": "code",
   "execution_count": 19,
   "metadata": {},
   "outputs": [
    {
     "data": {
      "text/html": [
       "<div>\n",
       "<style scoped>\n",
       "    .dataframe tbody tr th:only-of-type {\n",
       "        vertical-align: middle;\n",
       "    }\n",
       "\n",
       "    .dataframe tbody tr th {\n",
       "        vertical-align: top;\n",
       "    }\n",
       "\n",
       "    .dataframe thead th {\n",
       "        text-align: right;\n",
       "    }\n",
       "</style>\n",
       "<table border=\"1\" class=\"dataframe\">\n",
       "  <thead>\n",
       "    <tr style=\"text-align: right;\">\n",
       "      <th></th>\n",
       "      <th>_id_x</th>\n",
       "      <th>Overall rank</th>\n",
       "      <th>Country or region</th>\n",
       "      <th>Score</th>\n",
       "      <th>GDP per capita</th>\n",
       "      <th>Social support</th>\n",
       "      <th>Healthy life expectancy</th>\n",
       "      <th>Freedom to make life choices</th>\n",
       "      <th>Generosity</th>\n",
       "      <th>Perceptions of corruption</th>\n",
       "      <th>_id_y</th>\n",
       "      <th>Country</th>\n",
       "      <th>Code</th>\n",
       "      <th>Region</th>\n",
       "      <th>Income group</th>\n",
       "    </tr>\n",
       "  </thead>\n",
       "  <tbody>\n",
       "    <tr>\n",
       "      <th>0</th>\n",
       "      <td>5fd65f41584430c9f2fc1d5d</td>\n",
       "      <td>1</td>\n",
       "      <td>Finland</td>\n",
       "      <td>7.769</td>\n",
       "      <td>1.340</td>\n",
       "      <td>1.587</td>\n",
       "      <td>0.986</td>\n",
       "      <td>0.596</td>\n",
       "      <td>0.153</td>\n",
       "      <td>0.393</td>\n",
       "      <td>5fd65f40584430c9f2fc1cc6</td>\n",
       "      <td>Finland</td>\n",
       "      <td>FIN</td>\n",
       "      <td>Europe &amp; Central Asia</td>\n",
       "      <td>High income</td>\n",
       "    </tr>\n",
       "    <tr>\n",
       "      <th>1</th>\n",
       "      <td>5fd65f41584430c9f2fc1d5e</td>\n",
       "      <td>2</td>\n",
       "      <td>Denmark</td>\n",
       "      <td>7.600</td>\n",
       "      <td>1.383</td>\n",
       "      <td>1.573</td>\n",
       "      <td>0.996</td>\n",
       "      <td>0.592</td>\n",
       "      <td>0.252</td>\n",
       "      <td>0.410</td>\n",
       "      <td>5fd65f40584430c9f2fc1cb8</td>\n",
       "      <td>Denmark</td>\n",
       "      <td>DNK</td>\n",
       "      <td>Europe &amp; Central Asia</td>\n",
       "      <td>High income</td>\n",
       "    </tr>\n",
       "    <tr>\n",
       "      <th>2</th>\n",
       "      <td>5fd65f41584430c9f2fc1d5f</td>\n",
       "      <td>3</td>\n",
       "      <td>Norway</td>\n",
       "      <td>7.554</td>\n",
       "      <td>1.488</td>\n",
       "      <td>1.582</td>\n",
       "      <td>1.028</td>\n",
       "      <td>0.603</td>\n",
       "      <td>0.271</td>\n",
       "      <td>0.341</td>\n",
       "      <td>5fd65f40584430c9f2fc1d16</td>\n",
       "      <td>Norway</td>\n",
       "      <td>NOR</td>\n",
       "      <td>Europe &amp; Central Asia</td>\n",
       "      <td>High income</td>\n",
       "    </tr>\n",
       "    <tr>\n",
       "      <th>3</th>\n",
       "      <td>5fd65f41584430c9f2fc1d60</td>\n",
       "      <td>4</td>\n",
       "      <td>Iceland</td>\n",
       "      <td>7.494</td>\n",
       "      <td>1.380</td>\n",
       "      <td>1.624</td>\n",
       "      <td>1.026</td>\n",
       "      <td>0.591</td>\n",
       "      <td>0.354</td>\n",
       "      <td>0.118</td>\n",
       "      <td>5fd65f40584430c9f2fc1cdb</td>\n",
       "      <td>Iceland</td>\n",
       "      <td>ISL</td>\n",
       "      <td>Europe &amp; Central Asia</td>\n",
       "      <td>High income</td>\n",
       "    </tr>\n",
       "    <tr>\n",
       "      <th>4</th>\n",
       "      <td>5fd65f41584430c9f2fc1d61</td>\n",
       "      <td>5</td>\n",
       "      <td>Netherlands</td>\n",
       "      <td>7.488</td>\n",
       "      <td>1.396</td>\n",
       "      <td>1.522</td>\n",
       "      <td>0.999</td>\n",
       "      <td>0.557</td>\n",
       "      <td>0.322</td>\n",
       "      <td>0.298</td>\n",
       "      <td>5fd65f40584430c9f2fc1d0e</td>\n",
       "      <td>Netherlands</td>\n",
       "      <td>NLD</td>\n",
       "      <td>Europe &amp; Central Asia</td>\n",
       "      <td>High income</td>\n",
       "    </tr>\n",
       "  </tbody>\n",
       "</table>\n",
       "</div>"
      ],
      "text/plain": [
       "                      _id_x  Overall rank Country or region  Score  \\\n",
       "0  5fd65f41584430c9f2fc1d5d             1           Finland  7.769   \n",
       "1  5fd65f41584430c9f2fc1d5e             2           Denmark  7.600   \n",
       "2  5fd65f41584430c9f2fc1d5f             3            Norway  7.554   \n",
       "3  5fd65f41584430c9f2fc1d60             4           Iceland  7.494   \n",
       "4  5fd65f41584430c9f2fc1d61             5       Netherlands  7.488   \n",
       "\n",
       "   GDP per capita  Social support  Healthy life expectancy  \\\n",
       "0           1.340           1.587                    0.986   \n",
       "1           1.383           1.573                    0.996   \n",
       "2           1.488           1.582                    1.028   \n",
       "3           1.380           1.624                    1.026   \n",
       "4           1.396           1.522                    0.999   \n",
       "\n",
       "   Freedom to make life choices  Generosity  Perceptions of corruption  \\\n",
       "0                         0.596       0.153                      0.393   \n",
       "1                         0.592       0.252                      0.410   \n",
       "2                         0.603       0.271                      0.341   \n",
       "3                         0.591       0.354                      0.118   \n",
       "4                         0.557       0.322                      0.298   \n",
       "\n",
       "                      _id_y      Country Code                 Region  \\\n",
       "0  5fd65f40584430c9f2fc1cc6      Finland  FIN  Europe & Central Asia   \n",
       "1  5fd65f40584430c9f2fc1cb8      Denmark  DNK  Europe & Central Asia   \n",
       "2  5fd65f40584430c9f2fc1d16       Norway  NOR  Europe & Central Asia   \n",
       "3  5fd65f40584430c9f2fc1cdb      Iceland  ISL  Europe & Central Asia   \n",
       "4  5fd65f40584430c9f2fc1d0e  Netherlands  NLD  Europe & Central Asia   \n",
       "\n",
       "  Income group  \n",
       "0  High income  \n",
       "1  High income  \n",
       "2  High income  \n",
       "3  High income  \n",
       "4  High income  "
      ]
     },
     "execution_count": 19,
     "metadata": {},
     "output_type": "execute_result"
    }
   ],
   "source": [
    "#Merge the 2 dataframes on Country\n",
    "combined = pd.merge(df_ranking, df_income, left_on='Country or region', right_on='Country')\n",
    "combined.head()"
   ]
  },
  {
   "cell_type": "code",
   "execution_count": 20,
   "metadata": {},
   "outputs": [
    {
     "name": "stdout",
     "output_type": "stream",
     "text": [
      "<class 'pandas.core.frame.DataFrame'>\n",
      "Int64Index: 136 entries, 0 to 135\n",
      "Data columns (total 15 columns):\n",
      " #   Column                        Non-Null Count  Dtype  \n",
      "---  ------                        --------------  -----  \n",
      " 0   _id_x                         136 non-null    object \n",
      " 1   Overall rank                  136 non-null    int64  \n",
      " 2   Country or region             136 non-null    object \n",
      " 3   Score                         136 non-null    float64\n",
      " 4   GDP per capita                136 non-null    float64\n",
      " 5   Social support                136 non-null    float64\n",
      " 6   Healthy life expectancy       136 non-null    float64\n",
      " 7   Freedom to make life choices  136 non-null    float64\n",
      " 8   Generosity                    136 non-null    float64\n",
      " 9   Perceptions of corruption     136 non-null    float64\n",
      " 10  _id_y                         136 non-null    object \n",
      " 11  Country                       136 non-null    object \n",
      " 12  Code                          136 non-null    object \n",
      " 13  Region                        136 non-null    object \n",
      " 14  Income group                  136 non-null    object \n",
      "dtypes: float64(7), int64(1), object(7)\n",
      "memory usage: 17.0+ KB\n"
     ]
    }
   ],
   "source": [
    "combined.info()"
   ]
  },
  {
   "cell_type": "code",
   "execution_count": 21,
   "metadata": {},
   "outputs": [
    {
     "data": {
      "text/html": [
       "<style  type=\"text/css\" >\n",
       "</style><table id=\"T_317eb4c2_3d72_11eb_81cd_985aeb8d9b5c\" ><thead>    <tr>        <th class=\"col_heading level0 col0\" >Country</th>        <th class=\"col_heading level0 col1\" >Income group</th>        <th class=\"col_heading level0 col2\" >Score</th>        <th class=\"col_heading level0 col3\" >Generosity</th>        <th class=\"col_heading level0 col4\" >Perceptions of corruption</th>    </tr></thead><tbody>\n",
       "                <tr>\n",
       "                                <td id=\"T_317eb4c2_3d72_11eb_81cd_985aeb8d9b5crow0_col0\" class=\"data row0 col0\" >South Sudan</td>\n",
       "                        <td id=\"T_317eb4c2_3d72_11eb_81cd_985aeb8d9b5crow0_col1\" class=\"data row0 col1\" >Low income</td>\n",
       "                        <td id=\"T_317eb4c2_3d72_11eb_81cd_985aeb8d9b5crow0_col2\" class=\"data row0 col2\" >2.853000</td>\n",
       "                        <td id=\"T_317eb4c2_3d72_11eb_81cd_985aeb8d9b5crow0_col3\" class=\"data row0 col3\" >0.202000</td>\n",
       "                        <td id=\"T_317eb4c2_3d72_11eb_81cd_985aeb8d9b5crow0_col4\" class=\"data row0 col4\" >0.091000</td>\n",
       "            </tr>\n",
       "            <tr>\n",
       "                                <td id=\"T_317eb4c2_3d72_11eb_81cd_985aeb8d9b5crow1_col0\" class=\"data row1 col0\" >Central African Republic</td>\n",
       "                        <td id=\"T_317eb4c2_3d72_11eb_81cd_985aeb8d9b5crow1_col1\" class=\"data row1 col1\" >Low income</td>\n",
       "                        <td id=\"T_317eb4c2_3d72_11eb_81cd_985aeb8d9b5crow1_col2\" class=\"data row1 col2\" >3.083000</td>\n",
       "                        <td id=\"T_317eb4c2_3d72_11eb_81cd_985aeb8d9b5crow1_col3\" class=\"data row1 col3\" >0.235000</td>\n",
       "                        <td id=\"T_317eb4c2_3d72_11eb_81cd_985aeb8d9b5crow1_col4\" class=\"data row1 col4\" >0.035000</td>\n",
       "            </tr>\n",
       "            <tr>\n",
       "                                <td id=\"T_317eb4c2_3d72_11eb_81cd_985aeb8d9b5crow2_col0\" class=\"data row2 col0\" >Afghanistan</td>\n",
       "                        <td id=\"T_317eb4c2_3d72_11eb_81cd_985aeb8d9b5crow2_col1\" class=\"data row2 col1\" >Low income</td>\n",
       "                        <td id=\"T_317eb4c2_3d72_11eb_81cd_985aeb8d9b5crow2_col2\" class=\"data row2 col2\" >3.203000</td>\n",
       "                        <td id=\"T_317eb4c2_3d72_11eb_81cd_985aeb8d9b5crow2_col3\" class=\"data row2 col3\" >0.158000</td>\n",
       "                        <td id=\"T_317eb4c2_3d72_11eb_81cd_985aeb8d9b5crow2_col4\" class=\"data row2 col4\" >0.025000</td>\n",
       "            </tr>\n",
       "            <tr>\n",
       "                                <td id=\"T_317eb4c2_3d72_11eb_81cd_985aeb8d9b5crow3_col0\" class=\"data row3 col0\" >Tanzania</td>\n",
       "                        <td id=\"T_317eb4c2_3d72_11eb_81cd_985aeb8d9b5crow3_col1\" class=\"data row3 col1\" >Lower middle income</td>\n",
       "                        <td id=\"T_317eb4c2_3d72_11eb_81cd_985aeb8d9b5crow3_col2\" class=\"data row3 col2\" >3.231000</td>\n",
       "                        <td id=\"T_317eb4c2_3d72_11eb_81cd_985aeb8d9b5crow3_col3\" class=\"data row3 col3\" >0.276000</td>\n",
       "                        <td id=\"T_317eb4c2_3d72_11eb_81cd_985aeb8d9b5crow3_col4\" class=\"data row3 col4\" >0.147000</td>\n",
       "            </tr>\n",
       "            <tr>\n",
       "                                <td id=\"T_317eb4c2_3d72_11eb_81cd_985aeb8d9b5crow4_col0\" class=\"data row4 col0\" >Rwanda</td>\n",
       "                        <td id=\"T_317eb4c2_3d72_11eb_81cd_985aeb8d9b5crow4_col1\" class=\"data row4 col1\" >Low income</td>\n",
       "                        <td id=\"T_317eb4c2_3d72_11eb_81cd_985aeb8d9b5crow4_col2\" class=\"data row4 col2\" >3.334000</td>\n",
       "                        <td id=\"T_317eb4c2_3d72_11eb_81cd_985aeb8d9b5crow4_col3\" class=\"data row4 col3\" >0.217000</td>\n",
       "                        <td id=\"T_317eb4c2_3d72_11eb_81cd_985aeb8d9b5crow4_col4\" class=\"data row4 col4\" >0.411000</td>\n",
       "            </tr>\n",
       "            <tr>\n",
       "                                <td id=\"T_317eb4c2_3d72_11eb_81cd_985aeb8d9b5crow5_col0\" class=\"data row5 col0\" >Malawi</td>\n",
       "                        <td id=\"T_317eb4c2_3d72_11eb_81cd_985aeb8d9b5crow5_col1\" class=\"data row5 col1\" >Low income</td>\n",
       "                        <td id=\"T_317eb4c2_3d72_11eb_81cd_985aeb8d9b5crow5_col2\" class=\"data row5 col2\" >3.410000</td>\n",
       "                        <td id=\"T_317eb4c2_3d72_11eb_81cd_985aeb8d9b5crow5_col3\" class=\"data row5 col3\" >0.218000</td>\n",
       "                        <td id=\"T_317eb4c2_3d72_11eb_81cd_985aeb8d9b5crow5_col4\" class=\"data row5 col4\" >0.089000</td>\n",
       "            </tr>\n",
       "            <tr>\n",
       "                                <td id=\"T_317eb4c2_3d72_11eb_81cd_985aeb8d9b5crow6_col0\" class=\"data row6 col0\" >Botswana</td>\n",
       "                        <td id=\"T_317eb4c2_3d72_11eb_81cd_985aeb8d9b5crow6_col1\" class=\"data row6 col1\" >Upper middle income</td>\n",
       "                        <td id=\"T_317eb4c2_3d72_11eb_81cd_985aeb8d9b5crow6_col2\" class=\"data row6 col2\" >3.488000</td>\n",
       "                        <td id=\"T_317eb4c2_3d72_11eb_81cd_985aeb8d9b5crow6_col3\" class=\"data row6 col3\" >0.025000</td>\n",
       "                        <td id=\"T_317eb4c2_3d72_11eb_81cd_985aeb8d9b5crow6_col4\" class=\"data row6 col4\" >0.100000</td>\n",
       "            </tr>\n",
       "            <tr>\n",
       "                                <td id=\"T_317eb4c2_3d72_11eb_81cd_985aeb8d9b5crow7_col0\" class=\"data row7 col0\" >Haiti</td>\n",
       "                        <td id=\"T_317eb4c2_3d72_11eb_81cd_985aeb8d9b5crow7_col1\" class=\"data row7 col1\" >Low income</td>\n",
       "                        <td id=\"T_317eb4c2_3d72_11eb_81cd_985aeb8d9b5crow7_col2\" class=\"data row7 col2\" >3.597000</td>\n",
       "                        <td id=\"T_317eb4c2_3d72_11eb_81cd_985aeb8d9b5crow7_col3\" class=\"data row7 col3\" >0.419000</td>\n",
       "                        <td id=\"T_317eb4c2_3d72_11eb_81cd_985aeb8d9b5crow7_col4\" class=\"data row7 col4\" >0.110000</td>\n",
       "            </tr>\n",
       "            <tr>\n",
       "                                <td id=\"T_317eb4c2_3d72_11eb_81cd_985aeb8d9b5crow8_col0\" class=\"data row8 col0\" >Zimbabwe</td>\n",
       "                        <td id=\"T_317eb4c2_3d72_11eb_81cd_985aeb8d9b5crow8_col1\" class=\"data row8 col1\" >Lower middle income</td>\n",
       "                        <td id=\"T_317eb4c2_3d72_11eb_81cd_985aeb8d9b5crow8_col2\" class=\"data row8 col2\" >3.663000</td>\n",
       "                        <td id=\"T_317eb4c2_3d72_11eb_81cd_985aeb8d9b5crow8_col3\" class=\"data row8 col3\" >0.151000</td>\n",
       "                        <td id=\"T_317eb4c2_3d72_11eb_81cd_985aeb8d9b5crow8_col4\" class=\"data row8 col4\" >0.089000</td>\n",
       "            </tr>\n",
       "            <tr>\n",
       "                                <td id=\"T_317eb4c2_3d72_11eb_81cd_985aeb8d9b5crow9_col0\" class=\"data row9 col0\" >Burundi</td>\n",
       "                        <td id=\"T_317eb4c2_3d72_11eb_81cd_985aeb8d9b5crow9_col1\" class=\"data row9 col1\" >Low income</td>\n",
       "                        <td id=\"T_317eb4c2_3d72_11eb_81cd_985aeb8d9b5crow9_col2\" class=\"data row9 col2\" >3.775000</td>\n",
       "                        <td id=\"T_317eb4c2_3d72_11eb_81cd_985aeb8d9b5crow9_col3\" class=\"data row9 col3\" >0.176000</td>\n",
       "                        <td id=\"T_317eb4c2_3d72_11eb_81cd_985aeb8d9b5crow9_col4\" class=\"data row9 col4\" >0.180000</td>\n",
       "            </tr>\n",
       "    </tbody></table>"
      ],
      "text/plain": [
       "<pandas.io.formats.style.Styler at 0x7f9db307e2b0>"
      ]
     },
     "execution_count": 21,
     "metadata": {},
     "output_type": "execute_result"
    }
   ],
   "source": [
    "#Print 10 countries that were least happy and their income level and trust in government\n",
    "combined_asc = combined.sort_values(by='Score')\n",
    "combined_asc = combined_asc[['Country','Income group','Score','Generosity','Perceptions of corruption']]\n",
    "combined_asc.head(10).style.hide_index()"
   ]
  },
  {
   "cell_type": "code",
   "execution_count": 22,
   "metadata": {},
   "outputs": [
    {
     "data": {
      "text/html": [
       "<style  type=\"text/css\" >\n",
       "</style><table id=\"T_3714acca_3d72_11eb_8ac1_985aeb8d9b5c\" ><thead>    <tr>        <th class=\"col_heading level0 col0\" >Country</th>        <th class=\"col_heading level0 col1\" >Income group</th>        <th class=\"col_heading level0 col2\" >Score</th>        <th class=\"col_heading level0 col3\" >Generosity</th>        <th class=\"col_heading level0 col4\" >Perceptions of corruption</th>    </tr></thead><tbody>\n",
       "                <tr>\n",
       "                                <td id=\"T_3714acca_3d72_11eb_8ac1_985aeb8d9b5crow0_col0\" class=\"data row0 col0\" >Finland</td>\n",
       "                        <td id=\"T_3714acca_3d72_11eb_8ac1_985aeb8d9b5crow0_col1\" class=\"data row0 col1\" >High income</td>\n",
       "                        <td id=\"T_3714acca_3d72_11eb_8ac1_985aeb8d9b5crow0_col2\" class=\"data row0 col2\" >7.769000</td>\n",
       "                        <td id=\"T_3714acca_3d72_11eb_8ac1_985aeb8d9b5crow0_col3\" class=\"data row0 col3\" >0.153000</td>\n",
       "                        <td id=\"T_3714acca_3d72_11eb_8ac1_985aeb8d9b5crow0_col4\" class=\"data row0 col4\" >0.393000</td>\n",
       "            </tr>\n",
       "            <tr>\n",
       "                                <td id=\"T_3714acca_3d72_11eb_8ac1_985aeb8d9b5crow1_col0\" class=\"data row1 col0\" >Denmark</td>\n",
       "                        <td id=\"T_3714acca_3d72_11eb_8ac1_985aeb8d9b5crow1_col1\" class=\"data row1 col1\" >High income</td>\n",
       "                        <td id=\"T_3714acca_3d72_11eb_8ac1_985aeb8d9b5crow1_col2\" class=\"data row1 col2\" >7.600000</td>\n",
       "                        <td id=\"T_3714acca_3d72_11eb_8ac1_985aeb8d9b5crow1_col3\" class=\"data row1 col3\" >0.252000</td>\n",
       "                        <td id=\"T_3714acca_3d72_11eb_8ac1_985aeb8d9b5crow1_col4\" class=\"data row1 col4\" >0.410000</td>\n",
       "            </tr>\n",
       "            <tr>\n",
       "                                <td id=\"T_3714acca_3d72_11eb_8ac1_985aeb8d9b5crow2_col0\" class=\"data row2 col0\" >Norway</td>\n",
       "                        <td id=\"T_3714acca_3d72_11eb_8ac1_985aeb8d9b5crow2_col1\" class=\"data row2 col1\" >High income</td>\n",
       "                        <td id=\"T_3714acca_3d72_11eb_8ac1_985aeb8d9b5crow2_col2\" class=\"data row2 col2\" >7.554000</td>\n",
       "                        <td id=\"T_3714acca_3d72_11eb_8ac1_985aeb8d9b5crow2_col3\" class=\"data row2 col3\" >0.271000</td>\n",
       "                        <td id=\"T_3714acca_3d72_11eb_8ac1_985aeb8d9b5crow2_col4\" class=\"data row2 col4\" >0.341000</td>\n",
       "            </tr>\n",
       "            <tr>\n",
       "                                <td id=\"T_3714acca_3d72_11eb_8ac1_985aeb8d9b5crow3_col0\" class=\"data row3 col0\" >Iceland</td>\n",
       "                        <td id=\"T_3714acca_3d72_11eb_8ac1_985aeb8d9b5crow3_col1\" class=\"data row3 col1\" >High income</td>\n",
       "                        <td id=\"T_3714acca_3d72_11eb_8ac1_985aeb8d9b5crow3_col2\" class=\"data row3 col2\" >7.494000</td>\n",
       "                        <td id=\"T_3714acca_3d72_11eb_8ac1_985aeb8d9b5crow3_col3\" class=\"data row3 col3\" >0.354000</td>\n",
       "                        <td id=\"T_3714acca_3d72_11eb_8ac1_985aeb8d9b5crow3_col4\" class=\"data row3 col4\" >0.118000</td>\n",
       "            </tr>\n",
       "            <tr>\n",
       "                                <td id=\"T_3714acca_3d72_11eb_8ac1_985aeb8d9b5crow4_col0\" class=\"data row4 col0\" >Netherlands</td>\n",
       "                        <td id=\"T_3714acca_3d72_11eb_8ac1_985aeb8d9b5crow4_col1\" class=\"data row4 col1\" >High income</td>\n",
       "                        <td id=\"T_3714acca_3d72_11eb_8ac1_985aeb8d9b5crow4_col2\" class=\"data row4 col2\" >7.488000</td>\n",
       "                        <td id=\"T_3714acca_3d72_11eb_8ac1_985aeb8d9b5crow4_col3\" class=\"data row4 col3\" >0.322000</td>\n",
       "                        <td id=\"T_3714acca_3d72_11eb_8ac1_985aeb8d9b5crow4_col4\" class=\"data row4 col4\" >0.298000</td>\n",
       "            </tr>\n",
       "            <tr>\n",
       "                                <td id=\"T_3714acca_3d72_11eb_8ac1_985aeb8d9b5crow5_col0\" class=\"data row5 col0\" >Switzerland</td>\n",
       "                        <td id=\"T_3714acca_3d72_11eb_8ac1_985aeb8d9b5crow5_col1\" class=\"data row5 col1\" >High income</td>\n",
       "                        <td id=\"T_3714acca_3d72_11eb_8ac1_985aeb8d9b5crow5_col2\" class=\"data row5 col2\" >7.480000</td>\n",
       "                        <td id=\"T_3714acca_3d72_11eb_8ac1_985aeb8d9b5crow5_col3\" class=\"data row5 col3\" >0.263000</td>\n",
       "                        <td id=\"T_3714acca_3d72_11eb_8ac1_985aeb8d9b5crow5_col4\" class=\"data row5 col4\" >0.343000</td>\n",
       "            </tr>\n",
       "            <tr>\n",
       "                                <td id=\"T_3714acca_3d72_11eb_8ac1_985aeb8d9b5crow6_col0\" class=\"data row6 col0\" >Sweden</td>\n",
       "                        <td id=\"T_3714acca_3d72_11eb_8ac1_985aeb8d9b5crow6_col1\" class=\"data row6 col1\" >High income</td>\n",
       "                        <td id=\"T_3714acca_3d72_11eb_8ac1_985aeb8d9b5crow6_col2\" class=\"data row6 col2\" >7.343000</td>\n",
       "                        <td id=\"T_3714acca_3d72_11eb_8ac1_985aeb8d9b5crow6_col3\" class=\"data row6 col3\" >0.267000</td>\n",
       "                        <td id=\"T_3714acca_3d72_11eb_8ac1_985aeb8d9b5crow6_col4\" class=\"data row6 col4\" >0.373000</td>\n",
       "            </tr>\n",
       "            <tr>\n",
       "                                <td id=\"T_3714acca_3d72_11eb_8ac1_985aeb8d9b5crow7_col0\" class=\"data row7 col0\" >New Zealand</td>\n",
       "                        <td id=\"T_3714acca_3d72_11eb_8ac1_985aeb8d9b5crow7_col1\" class=\"data row7 col1\" >High income</td>\n",
       "                        <td id=\"T_3714acca_3d72_11eb_8ac1_985aeb8d9b5crow7_col2\" class=\"data row7 col2\" >7.307000</td>\n",
       "                        <td id=\"T_3714acca_3d72_11eb_8ac1_985aeb8d9b5crow7_col3\" class=\"data row7 col3\" >0.330000</td>\n",
       "                        <td id=\"T_3714acca_3d72_11eb_8ac1_985aeb8d9b5crow7_col4\" class=\"data row7 col4\" >0.380000</td>\n",
       "            </tr>\n",
       "            <tr>\n",
       "                                <td id=\"T_3714acca_3d72_11eb_8ac1_985aeb8d9b5crow8_col0\" class=\"data row8 col0\" >Canada</td>\n",
       "                        <td id=\"T_3714acca_3d72_11eb_8ac1_985aeb8d9b5crow8_col1\" class=\"data row8 col1\" >High income</td>\n",
       "                        <td id=\"T_3714acca_3d72_11eb_8ac1_985aeb8d9b5crow8_col2\" class=\"data row8 col2\" >7.278000</td>\n",
       "                        <td id=\"T_3714acca_3d72_11eb_8ac1_985aeb8d9b5crow8_col3\" class=\"data row8 col3\" >0.285000</td>\n",
       "                        <td id=\"T_3714acca_3d72_11eb_8ac1_985aeb8d9b5crow8_col4\" class=\"data row8 col4\" >0.308000</td>\n",
       "            </tr>\n",
       "            <tr>\n",
       "                                <td id=\"T_3714acca_3d72_11eb_8ac1_985aeb8d9b5crow9_col0\" class=\"data row9 col0\" >Austria</td>\n",
       "                        <td id=\"T_3714acca_3d72_11eb_8ac1_985aeb8d9b5crow9_col1\" class=\"data row9 col1\" >High income</td>\n",
       "                        <td id=\"T_3714acca_3d72_11eb_8ac1_985aeb8d9b5crow9_col2\" class=\"data row9 col2\" >7.246000</td>\n",
       "                        <td id=\"T_3714acca_3d72_11eb_8ac1_985aeb8d9b5crow9_col3\" class=\"data row9 col3\" >0.244000</td>\n",
       "                        <td id=\"T_3714acca_3d72_11eb_8ac1_985aeb8d9b5crow9_col4\" class=\"data row9 col4\" >0.226000</td>\n",
       "            </tr>\n",
       "    </tbody></table>"
      ],
      "text/plain": [
       "<pandas.io.formats.style.Styler at 0x7f9db3351898>"
      ]
     },
     "execution_count": 22,
     "metadata": {},
     "output_type": "execute_result"
    }
   ],
   "source": [
    "#Print 10 countries that were happy and their income level and trust in government\n",
    "combined_desc = combined.sort_values(by='Score',ascending=False)\n",
    "combined_desc = combined_desc[['Country','Income group','Score','Generosity','Perceptions of corruption']]\n",
    "combined_desc.head(10).style.hide_index()"
   ]
  },
  {
   "cell_type": "code",
   "execution_count": 28,
   "metadata": {},
   "outputs": [
    {
     "data": {
      "image/png": "[encoded data removed]",
      "text/plain": [
       "<Figure size 432x288 with 1 Axes>"
      ]
     },
     "metadata": {
      "needs_background": "light"
     },
     "output_type": "display_data"
    }
   ],
   "source": [
    "fig = combined_desc.plot.scatter(x='Score',y='Generosity',c='DarkBlue').get_figure()\n",
    "fig.savefig('images/happy_score_to_generosity.png')"
   ]
  },
  {
   "cell_type": "code",
   "execution_count": 27,
   "metadata": {},
   "outputs": [
    {
     "data": {
      "image/png": "[encoded data removed]",
      "text/plain": [
       "<Figure size 432x288 with 1 Axes>"
      ]
     },
     "metadata": {
      "needs_background": "light"
     },
     "output_type": "display_data"
    }
   ],
   "source": [
    "fig = combined_desc.plot.scatter(x='Score',y='Perceptions of corruption',c='DarkBlue').get_figure()\n",
    "plt.ylabel('Trust In Goernment')\n",
    "fig.savefig('images/happy_score_to_trust.png')"
   ]
  },
  {
   "cell_type": "code",
   "execution_count": null,
   "metadata": {},
   "outputs": [],
   "source": []
  }
 ],
 "metadata": {
  "kernelspec": {
   "display_name": "Python 3",
   "language": "python",
   "name": "python3"
  },
  "language_info": {
   "codemirror_mode": {
    "name": "ipython",
    "version": 3
   },
   "file_extension": ".py",
   "mimetype": "text/x-python",
   "name": "python",
   "nbconvert_exporter": "python",
   "pygments_lexer": "ipython3",
   "version": "3.6.10"
  }
 },
 "nbformat": 4,
 "nbformat_minor": 4
}
